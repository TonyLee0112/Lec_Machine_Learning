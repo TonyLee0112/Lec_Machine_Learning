{
 "cells": [
  {
   "cell_type": "code",
   "execution_count": 4,
   "id": "5d50677a",
   "metadata": {},
   "outputs": [],
   "source": [
    "import sklearn\n",
    "import matplotlib.pyplot as plt\n",
    "import numpy as np\n",
    "from sklearn.linear_model import LinearRegression\n",
    "\n",
    "train_percent = 0.0  # To be modified\n",
    "valid_percent = 0.0  # To be modified\n",
    "\n",
    "# Modify the data location for loading data\n",
    "data = np.loadtxt('data.csv', unpack=True, delimiter=',',skiprows=0 )\n",
    "data = np.transpose(data)"
   ]
  },
  {
   "cell_type": "markdown",
   "id": "542e14f8",
   "metadata": {},
   "source": [
    "# Write a code for acquiring unbiased data"
   ]
  },
  {
   "cell_type": "code",
   "execution_count": null,
   "id": "2e6a308d",
   "metadata": {},
   "outputs": [],
   "source": [
    "# Code 작성"
   ]
  },
  {
   "cell_type": "code",
   "execution_count": null,
   "id": "1efb03f1",
   "metadata": {},
   "outputs": [],
   "source": [
    "#Obtaining Training data set\n",
    "train_set = data[0:int(len(data)*train_percent)]\n",
    "train_set = sorted(train_set, key=lambda train_set: train_set[0]) # Sorting again for data in order\n",
    "train_set = np.transpose(train_set)\n",
    "\n",
    "#Reallocate for efficient programming\n",
    "train_x = train_set[0]  #train_set[0] : feature data set (i.e, x)\n",
    "train_y = train_set[1] #train_set[1] : lable data set (i.e, y)"
   ]
  },
  {
   "cell_type": "markdown",
   "id": "db6ef66b",
   "metadata": {},
   "source": [
    "# Write code for obtaining valid data set : valid_set"
   ]
  },
  {
   "cell_type": "code",
   "execution_count": null,
   "id": "f86ac324",
   "metadata": {},
   "outputs": [],
   "source": [
    "# Code 작성\n",
    "\n",
    "valid_x = valid_set[0]\n",
    "valid_y = valid_set[1]"
   ]
  },
  {
   "cell_type": "markdown",
   "id": "ee49817a",
   "metadata": {},
   "source": [
    "# Write code for obtaining test data set :test_set"
   ]
  },
  {
   "cell_type": "code",
   "execution_count": null,
   "id": "9d87ffcf",
   "metadata": {},
   "outputs": [],
   "source": [
    "# Code 작성\n",
    "\n",
    "test_x = test_set[0]\n",
    "test_y = test_set[1]"
   ]
  },
  {
   "cell_type": "markdown",
   "id": "3304a993",
   "metadata": {},
   "source": [
    "# Regression Libraries"
   ]
  },
  {
   "cell_type": "code",
   "execution_count": null,
   "id": "ac8c8a0d",
   "metadata": {},
   "outputs": [],
   "source": [
    "##################### Regression Libraries #############\n",
    "def fit_polynomial(x,y , degree):\n",
    "    '''\n",
    "    Fits a polynomial to the input sample.\n",
    "    (x,y): input sample\n",
    "    degree: polynomial degree\n",
    "    '''\n",
    "    model = LinearRegression()\n",
    "    model.fit(np.vander(x, degree + 1), y)\n",
    "    return model\n",
    "\n",
    "def apply_polynomial(model, x):\n",
    "    '''\n",
    "    Evaluates a linear regression model in an input sample\n",
    "    model: linear regression model\n",
    "    x: input sample\n",
    "    '''\n",
    "    degree = model.coef_.size - 1\n",
    "    y = model.predict(np.vander(x, degree + 1))\n",
    "    return y\n",
    "##################### End of Regression Libraries #############"
   ]
  },
  {
   "cell_type": "code",
   "execution_count": null,
   "id": "36306971",
   "metadata": {},
   "outputs": [],
   "source": [
    "# Starting values\n",
    "Optimal_Order = 0\n",
    "Minimum_MSE = 9999\n",
    "Optimal_Model=None\n",
    "\n",
    "# Determine minimum MSE for valid set as increasing polynomial order from 1 to 10.\n",
    "for polynomial_order in range(1, 10) :\n",
    "\n",
    "    model = fit_polynomial(train_x, train_y, polynomial_order)\n",
    "    Estimated_train_y = apply_polynomial(model, train_x)\n",
    "\n",
    "   # Write codes measuring MSE for valid set\n",
    "   # For calculating MSE use the library \"mean_squared_error\" in \"sklearn.metrics\"\n",
    "\n",
    "\n",
    "    if Minimum_MSE> MSE :\n",
    "        Optimal_Order = polynomial_order\n",
    "        Minimum_MSE = MSE\n",
    "        Optimal_Model = model\n",
    "\n",
    "\n",
    "print(\"----------------------\",\"\\n\")\n",
    "print(\"We can choose best polynomial order with MSE of validation set.\")\n",
    "print(\"Optimal order is \", Optimal_Order)\n",
    "print(\"Minimum MSE is \", Minimum_MSE)\n",
    "print(\"\\n\")\n",
    "print(\"-----TEST RESULT-----\")\n",
    "\n",
    "#Overlay Regression polynomial along training feature data and test data set (test_x, test,y)\n",
    "plt.plot(train_x, apply_polynomial(Optimal_Model, train_x),'g')   # Display with lines colored with green (g).\n",
    "plt.plot(test_x, test_y, 'b.') # Display with dots colored with blue (b)."
   ]
  },
  {
   "cell_type": "markdown",
   "id": "cf195c25",
   "metadata": {},
   "source": [
    "# Write code for calculating MSE performance of the Optimal regression polynomial."
   ]
  },
  {
   "cell_type": "code",
   "execution_count": null,
   "id": "5cb51695",
   "metadata": {},
   "outputs": [],
   "source": [
    "# Code 작성"
   ]
  },
  {
   "cell_type": "code",
   "execution_count": null,
   "id": "6ff2ea19",
   "metadata": {},
   "outputs": [],
   "source": [
    "print(\"MSE : \", MSE_Performance)\n",
    "\n",
    "print(\"The coefficient of model is \",Optimal_Model.coef_,\",  \",Optimal_Model.intercept_)\n",
    "\n",
    "plt.xlabel('Feature values : x')\n",
    "plt.ylabel('Lable values : y')\n",
    "plt.grid()\n",
    "plt.suptitle('Polynomial Regression',fontsize=16)\n",
    "plt.show()"
   ]
  }
 ],
 "metadata": {
  "kernelspec": {
   "display_name": "Python 3 (ipykernel)",
   "language": "python",
   "name": "python3"
  },
  "language_info": {
   "codemirror_mode": {
    "name": "ipython",
    "version": 3
   },
   "file_extension": ".py",
   "mimetype": "text/x-python",
   "name": "python",
   "nbconvert_exporter": "python",
   "pygments_lexer": "ipython3",
   "version": "3.9.12"
  }
 },
 "nbformat": 4,
 "nbformat_minor": 5
}
